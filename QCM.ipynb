{
 "cells": [
  {
   "cell_type": "code",
   "execution_count": 17,
   "metadata": {},
   "outputs": [
    {
     "name": "stdout",
     "output_type": "stream",
     "text": [
      "[0, 1, 2, -3, 4, 5, -6, 7, 8, -9, 10, 11, -12, 13, 14, -15, 16, 17, -18, 19, 20, -21, 22, 23, -24, 25, 26, -27, 28, 29, -30, 31, 32, -33, 34, 35, -36, 37, 38, -39, 40, 41, -42, 43, 44, -45, 46, 47, -48, 49, 50, -51, 52, 53, -54, 55, 56, -57, 58, 59, -60, 61, 62, -63, 64, 65, -66, 67, 68, -69, 70, 71, -72, 73, 74, -75, 76, 77, -78, 79, 80, -81, 82, 83, -84, 85, 86, -87, 88, 89, -90, 91, 92, -93, 94, 95, -96, 97, 98, -99]\n"
     ]
    }
   ],
   "source": [
    "t = [0] * 100\n",
    "for i in range(100):\n",
    "    if i%3:\n",
    "        t[i] = i\n",
    "    else:\n",
    "        t[i] = -i\n",
    "print(t)"
   ]
  },
  {
   "cell_type": "code",
   "execution_count": 3,
   "metadata": {},
   "outputs": [
    {
     "name": "stdout",
     "output_type": "stream",
     "text": [
      "6 -1\n"
     ]
    }
   ],
   "source": [
    "def f(y):\n",
    "    global x\n",
    "    x, y = x * 2, y + 1\n",
    "x, y = 3, -1\n",
    "f(y)\n",
    "print(x, y)"
   ]
  },
  {
   "cell_type": "code",
   "execution_count": 1,
   "metadata": {},
   "outputs": [
    {
     "name": "stdout",
     "output_type": "stream",
     "text": [
      "17\n"
     ]
    }
   ],
   "source": [
    "def f(n):\n",
    "    if n%2 == 0:\n",
    "        return n // 2\n",
    "    return 3 * n + 1\n",
    "v=7\n",
    "for i in range(4):\n",
    "    v = f(v)\n",
    "print(v)"
   ]
  },
  {
   "cell_type": "code",
   "execution_count": 19,
   "metadata": {},
   "outputs": [
    {
     "ename": "TypeError",
     "evalue": "write() argument must be str, not int",
     "output_type": "error",
     "traceback": [
      "\u001b[0;31m---------------------------------------------------------------------------\u001b[0m",
      "\u001b[0;31mTypeError\u001b[0m                                 Traceback (most recent call last)",
      "\u001b[0;32m/var/folders/5j/05h4blz122gf7lv7pgzbnwbc0000gn/T/ipykernel_27446/3088576575.py\u001b[0m in \u001b[0;36m<module>\u001b[0;34m\u001b[0m\n\u001b[1;32m      1\u001b[0m \u001b[0mfic\u001b[0m\u001b[0;34m=\u001b[0m\u001b[0mopen\u001b[0m\u001b[0;34m(\u001b[0m\u001b[0;34m\"result.txt\"\u001b[0m\u001b[0;34m,\u001b[0m \u001b[0;34m\"w\"\u001b[0m\u001b[0;34m)\u001b[0m\u001b[0;34m\u001b[0m\u001b[0;34m\u001b[0m\u001b[0m\n\u001b[1;32m      2\u001b[0m \u001b[0;32mfor\u001b[0m \u001b[0mi\u001b[0m \u001b[0;32min\u001b[0m \u001b[0mrange\u001b[0m\u001b[0;34m(\u001b[0m\u001b[0;36m4\u001b[0m\u001b[0;34m)\u001b[0m\u001b[0;34m:\u001b[0m\u001b[0;34m\u001b[0m\u001b[0;34m\u001b[0m\u001b[0m\n\u001b[0;32m----> 3\u001b[0;31m     \u001b[0mfic\u001b[0m\u001b[0;34m.\u001b[0m\u001b[0mwrite\u001b[0m\u001b[0;34m(\u001b[0m\u001b[0mi\u001b[0m\u001b[0;34m)\u001b[0m\u001b[0;34m\u001b[0m\u001b[0;34m\u001b[0m\u001b[0m\n\u001b[0m\u001b[1;32m      4\u001b[0m \u001b[0mfic\u001b[0m\u001b[0;34m.\u001b[0m\u001b[0mclose\u001b[0m\u001b[0;34m(\u001b[0m\u001b[0;34m)\u001b[0m\u001b[0;34m\u001b[0m\u001b[0;34m\u001b[0m\u001b[0m\n",
      "\u001b[0;31mTypeError\u001b[0m: write() argument must be str, not int"
     ]
    }
   ],
   "source": [
    "fic=open(\"result.txt\", \"w\")\n",
    "for i in range(4):\n",
    "    fic.write(i)\n",
    "fic.close()"
   ]
  },
  {
   "cell_type": "code",
   "execution_count": 21,
   "metadata": {},
   "outputs": [
    {
     "name": "stdout",
     "output_type": "stream",
     "text": [
      "[0, 1, 2, 3]\n"
     ]
    }
   ],
   "source": [
    "def f(el):\n",
    "    return el+ [len(el)]\n",
    "el = []\n",
    "for i in range(4):\n",
    "    el = f(el)\n",
    "print(el)"
   ]
  },
  {
   "cell_type": "code",
   "execution_count": 6,
   "metadata": {},
   "outputs": [
    {
     "name": "stdout",
     "output_type": "stream",
     "text": [
      "6\n"
     ]
    }
   ],
   "source": [
    "el = []\n",
    "for i in range(10):\n",
    "    l_tmp = []\n",
    "    for j in range(4):\n",
    "        l_tmp.append(2*i+j)\n",
    "    el.append(l_tmp)\n",
    "print(el[2][2])"
   ]
  },
  {
   "cell_type": "code",
   "execution_count": 7,
   "metadata": {},
   "outputs": [
    {
     "name": "stdout",
     "output_type": "stream",
     "text": [
      "5 4\n"
     ]
    }
   ],
   "source": [
    "x, y = 0, 9\n",
    "while x < y:\n",
    "    x, y = x + 1, y - 1\n",
    "print(x, y)"
   ]
  },
  {
   "cell_type": "code",
   "execution_count": 8,
   "metadata": {},
   "outputs": [
    {
     "name": "stdout",
     "output_type": "stream",
     "text": [
      "9 2\n"
     ]
    }
   ],
   "source": [
    "def f(el, e):\n",
    "    e += 1\n",
    "    el[0] += e\n",
    "el, e = [6, 3], 2\n",
    "f(el, e)\n",
    "print(el[0], e)"
   ]
  },
  {
   "cell_type": "code",
   "execution_count": 9,
   "metadata": {},
   "outputs": [
    {
     "name": "stdout",
     "output_type": "stream",
     "text": [
      "[4, 7, 0]\n"
     ]
    }
   ],
   "source": [
    "v = [4, 7, 2]\n",
    "w = [v, v]\n",
    "w[-1][-1] = 0\n",
    "print(v)"
   ]
  },
  {
   "cell_type": "code",
   "execution_count": 10,
   "metadata": {},
   "outputs": [
    {
     "name": "stdout",
     "output_type": "stream",
     "text": [
      "toto 14\n"
     ]
    }
   ],
   "source": [
    "def f(a):\n",
    "    return a + a\n",
    "print(f(\"to\"), f(7))"
   ]
  },
  {
   "cell_type": "code",
   "execution_count": 1,
   "metadata": {},
   "outputs": [
    {
     "name": "stdout",
     "output_type": "stream",
     "text": [
      "100\n"
     ]
    }
   ],
   "source": [
    "s=0\n",
    "for i in range(10):\n",
    "    for j in range(10): \n",
    "        s=s+1\n",
    "print(s)"
   ]
  },
  {
   "cell_type": "code",
   "execution_count": 13,
   "metadata": {},
   "outputs": [
    {
     "name": "stdout",
     "output_type": "stream",
     "text": [
      "['Lundi', '5', 'avril', '2021', 'est', 'férié']\n"
     ]
    }
   ],
   "source": [
    "var = \"Lundi 5 avril 2021 est férié\"\n",
    "liste = var.split()\n",
    "print(liste)"
   ]
  }
 ],
 "metadata": {
  "interpreter": {
   "hash": "31f2aee4e71d21fbe5cf8b01ff0e069b9275f58929596ceb00d14d90e3e16cd6"
  },
  "kernelspec": {
   "display_name": "Python 3.8.9 64-bit",
   "language": "python",
   "name": "python3"
  },
  "language_info": {
   "codemirror_mode": {
    "name": "ipython",
    "version": 3
   },
   "file_extension": ".py",
   "mimetype": "text/x-python",
   "name": "python",
   "nbconvert_exporter": "python",
   "pygments_lexer": "ipython3",
   "version": "3.9.7"
  },
  "orig_nbformat": 4
 },
 "nbformat": 4,
 "nbformat_minor": 2
}

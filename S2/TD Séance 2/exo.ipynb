{
 "cells": [
  {
   "cell_type": "code",
   "execution_count": 1,
   "metadata": {},
   "outputs": [],
   "source": [
    "MonFichier = open(\"test.txt\",\"w\")"
   ]
  },
  {
   "cell_type": "markdown",
   "metadata": {},
   "source": [
    "w = ecrire\n",
    "r = lire\n",
    "a = ajouté"
   ]
  },
  {
   "cell_type": "code",
   "execution_count": 2,
   "metadata": {},
   "outputs": [],
   "source": [
    "MonFichier.write(\"hello\")\n",
    "MonFichier.close()"
   ]
  },
  {
   "cell_type": "code",
   "execution_count": 3,
   "metadata": {},
   "outputs": [
    {
     "data": {
      "text/plain": [
       "['hello']"
      ]
     },
     "execution_count": 3,
     "metadata": {},
     "output_type": "execute_result"
    }
   ],
   "source": [
    "MonFichier = open(\"test.txt\",\"r\")\n",
    "MonFichier.readlines()"
   ]
  },
  {
   "cell_type": "markdown",
   "metadata": {},
   "source": [
    "EXERCICE 2"
   ]
  },
  {
   "cell_type": "markdown",
   "metadata": {},
   "source": [
    "Ecrire la fonction qui retourne le nombre de lignes du fichier dont le nom est passé en argument comme chaîne de caractère. Combien de mots contient la liste fournie?"
   ]
  },
  {
   "cell_type": "code",
   "execution_count": 20,
   "metadata": {},
   "outputs": [
    {
     "data": {
      "text/plain": [
       "370103"
      ]
     },
     "execution_count": 20,
     "metadata": {},
     "output_type": "execute_result"
    }
   ],
   "source": [
    "def nb_lignes(fichier):\n",
    "    fichier = open(fichier,\"r\")\n",
    "    lignes = fichier.readlines()\n",
    "    return (len(lignes))\n",
    "\n",
    "nb_lignes(\"words.txt\")\n"
   ]
  },
  {
   "cell_type": "markdown",
   "metadata": {},
   "source": [
    "Ecrire la fonction qui écrit tous les mots de n lettres du fichier words.txt dans le fichier wordsn.txt (le n est à remplacer par sa valeur). Combien y a-t-il de mots de 5 lettres ?"
   ]
  },
  {
   "cell_type": "code",
   "execution_count": 23,
   "metadata": {},
   "outputs": [
    {
     "name": "stdout",
     "output_type": "stream",
     "text": [
      "0\n"
     ]
    }
   ],
   "source": [
    "def ecrit_liste_mots(fichiern):\n",
    "    fichiern = open(fichiern,\"w\")\n",
    "    orginal = open(\"words.txt\",\"r\")\n",
    "    n = input(\"donner le nombre de lettre dans les mots\")\n",
    "    ligne_orginal = orginal.readline()\n",
    "    if len(ligne_orginal) == n : \n",
    "        fichiern.write(ligne_orginal)\n",
    "\n",
    "fich = open(\"wordsn.txt\",\"w\")\n",
    "ecrit_liste_mots(\"wordsn.txt\")\n",
    "print(nb_lignes(\"wordsn.txt\"))"
   ]
  }
 ],
 "metadata": {
  "interpreter": {
   "hash": "31f2aee4e71d21fbe5cf8b01ff0e069b9275f58929596ceb00d14d90e3e16cd6"
  },
  "kernelspec": {
   "display_name": "Python 3.8.9 64-bit",
   "language": "python",
   "name": "python3"
  },
  "language_info": {
   "codemirror_mode": {
    "name": "ipython",
    "version": 3
   },
   "file_extension": ".py",
   "mimetype": "text/x-python",
   "name": "python",
   "nbconvert_exporter": "python",
   "pygments_lexer": "ipython3",
   "version": "3.9.7"
  },
  "orig_nbformat": 4
 },
 "nbformat": 4,
 "nbformat_minor": 2
}
